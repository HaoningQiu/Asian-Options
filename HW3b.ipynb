{
 "cells": [
  {
   "cell_type": "markdown",
   "metadata": {
    "deletable": false,
    "editable": false,
    "nbgrader": {
     "cell_type": "markdown",
     "checksum": "8692b607107b3a718e7d4aacfda4a1c6",
     "grade": false,
     "grade_id": "cell-717ec7d09677c639",
     "locked": true,
     "schema_version": 3,
     "solution": false,
     "task": false
    }
   },
   "source": [
    "## Problem 1 (Lookback Options, 10 points)\n",
    " - $\\text{Payoff of a float call} = (S_T - \\min_{0\\leq t\\leq T}S_t)$\n",
    " - $\\text{Payoff of a float put} = ( - S_T)$\n",
    " - $\\text{Payoff of a fix call} = \\max{(\\max_{0\\leq t\\leq T}S_t - K, 0)}$\n",
    " - $\\text{Payoff of a fix put} = \\max{(K - \\min_{0\\leq t\\leq T}S_t, 0)}$"
   ]
  },
  {
   "cell_type": "markdown",
   "metadata": {
    "deletable": false,
    "editable": false,
    "nbgrader": {
     "cell_type": "markdown",
     "checksum": "9a9ae7aec3147a5b71fb19743f0abdc9",
     "grade": false,
     "grade_id": "cell-43ee93247afdb23d",
     "locked": true,
     "schema_version": 3,
     "solution": false,
     "task": false
    }
   },
   "source": [
    "(a) Using a dynamic Monte Carlo approximation for the stock price in the Black-Scholes model. Write a function to approximate the initial price of a **floating strike Lookback put**. The initial arbitrage free price is give by \n",
    "$$e^{-rT}\\mathbb{E}^*\\left[\\max_{0\\leq t\\leq T} S_t - S_T\\right], $$ where the option maturity is $T$ years and the stock, under the risk neutral probability, follows the Black-Scholes model, i.e.\n",
    "$$S_t = S_0\\exp{((r-\\sigma^2/2)t+\\sigma W(t))}, \\quad t\\in[0, T], $$ where $r$ is the risk-free interest rate and $\\{W(t), t\\in[0,T]\\}$ is a standard Brownian motion. "
   ]
  },
  {
   "cell_type": "code",
   "execution_count": 1,
   "metadata": {
    "deletable": false,
    "nbgrader": {
     "cell_type": "code",
     "checksum": "07e8622cfa1bd14c675ab89f28250d5f",
     "grade": false,
     "grade_id": "cell-aa4d2ae166a37e4e",
     "locked": false,
     "schema_version": 3,
     "solution": true,
     "task": false
    }
   },
   "outputs": [],
   "source": [
    "# Import the necessary packages here\n",
    "\n",
    "# YOUR CODE HERE\n",
    "import pandas as pd\n",
    "import numpy as np"
   ]
  },
  {
   "cell_type": "markdown",
   "metadata": {
    "deletable": false,
    "editable": false,
    "nbgrader": {
     "cell_type": "markdown",
     "checksum": "f8b6fe349838d5552c766a650bd619f9",
     "grade": false,
     "grade_id": "cell-e0ebd1d034392d7a",
     "locked": true,
     "schema_version": 3,
     "solution": false,
     "task": false
    }
   },
   "source": [
    "In the following cells, we would first work on it step by step and then combine the code together and write a function for pricing the floating strike Lookback put option."
   ]
  },
  {
   "cell_type": "code",
   "execution_count": 2,
   "metadata": {
    "deletable": false,
    "editable": false,
    "nbgrader": {
     "cell_type": "code",
     "checksum": "935242b2883394614af2d0db231f2d04",
     "grade": false,
     "grade_id": "cell-876103f8ecee94ed",
     "locked": true,
     "schema_version": 3,
     "solution": false,
     "task": false
    }
   },
   "outputs": [],
   "source": [
    "# Set parameters and try to work step by step first \n",
    "T = 7  # time to maturity\n",
    "S0 = 20  # initial stock price\n",
    "r = 0.1  # interest rate\n",
    "sig = 1  # standard deviation (volatility)\n",
    "M = 10000  # number of Monte Carlo sample\n",
    "dt = 0.1  # the increment in discretization"
   ]
  },
  {
   "cell_type": "code",
   "execution_count": 3,
   "metadata": {
    "deletable": false,
    "nbgrader": {
     "cell_type": "code",
     "checksum": "072a19c44709518589eb7992b69a9b68",
     "grade": false,
     "grade_id": "cell-2c8f3fcd1864ea19",
     "locked": false,
     "schema_version": 3,
     "solution": true,
     "task": false
    }
   },
   "outputs": [
    {
     "data": {
      "text/plain": [
       "13.425838681599666"
      ]
     },
     "execution_count": 3,
     "metadata": {},
     "output_type": "execute_result"
    }
   ],
   "source": [
    "# Compute the number of steps N (=T/dt).\n",
    "# Simulate all Zi's (Brownian Motion terms) and store them in matrix Zt.\n",
    "# Simulate M stock price paths with each path has length N: call it matrix St.\n",
    "# Make sure to assign random seed 111 before you generate the random standard normal samples.\n",
    "\n",
    "# YOUR CODE HERE\n",
    "np.random.seed(111)\n",
    "N = int(T/dt)\n",
    "Zt = np.random.normal(0,np.sqrt(dt),(M,N))\n",
    "St = np.zeros((M,N))\n",
    "St[:,0]= S0*np.exp((r-0.5*sig**2)*dt+sig*Zt[:,0])\n",
    "for n in range(1,N):\n",
    "    St[:,n]= St[:,n-1]*np.exp((r-0.5*sig**2)*dt+sig*Zt[:,n])\n",
    "St[0,0]"
   ]
  },
  {
   "cell_type": "code",
   "execution_count": 4,
   "metadata": {
    "deletable": false,
    "nbgrader": {
     "cell_type": "code",
     "checksum": "5646bdfbf2c5f238b70fe8ada433b6a7",
     "grade": false,
     "grade_id": "cell-042b30588f05bc57",
     "locked": false,
     "schema_version": 3,
     "solution": true,
     "task": false
    }
   },
   "outputs": [],
   "source": [
    "# YOUR CODE HERE\n",
    "LookbackPut = np.zeros((M))\n",
    "for m in range(M):\n",
    "    LookbackPut[m] = np.max(St[m,:])-St[m,-1]"
   ]
  },
  {
   "cell_type": "code",
   "execution_count": 5,
   "metadata": {
    "deletable": false,
    "editable": false,
    "nbgrader": {
     "cell_type": "code",
     "checksum": "d943603c147ff3b28453e2d3abcf7ed0",
     "grade": true,
     "grade_id": "cell-a24dd00348324bae",
     "locked": true,
     "points": 1,
     "schema_version": 3,
     "solution": false,
     "task": false
    }
   },
   "outputs": [],
   "source": [
    "\"\"\"Check the stock price paths simulation (dimension)\"\"\"\n",
    "assert St.shape == (M, N)"
   ]
  },
  {
   "cell_type": "code",
   "execution_count": 6,
   "metadata": {
    "deletable": false,
    "editable": false,
    "nbgrader": {
     "cell_type": "code",
     "checksum": "965955fb54778a0fcb221b66a65b6d8d",
     "grade": true,
     "grade_id": "cell-e552f4e97db43f27",
     "locked": true,
     "points": 2,
     "schema_version": 3,
     "solution": false,
     "task": false
    }
   },
   "outputs": [],
   "source": [
    "\"\"\"Check the stock price paths simulation (values)\"\"\"\n",
    "assert round(St[0,0], 2) == 13.43"
   ]
  },
  {
   "cell_type": "code",
   "execution_count": 7,
   "metadata": {
    "deletable": false,
    "editable": false,
    "nbgrader": {
     "cell_type": "code",
     "checksum": "15792320c979355513536856f9007eb7",
     "grade": true,
     "grade_id": "cell-376132f841dcd9ec",
     "locked": true,
     "points": 2,
     "schema_version": 3,
     "solution": false,
     "task": false
    }
   },
   "outputs": [],
   "source": [
    "\"\"\"Check the computation of payoff and arbitrage free initial price\"\"\"\n",
    "assert len(LookbackPut) == 10000\n",
    "assert round(LookbackPut[0], 2) == 22.01"
   ]
  },
  {
   "cell_type": "code",
   "execution_count": 8,
   "metadata": {
    "deletable": false,
    "nbgrader": {
     "cell_type": "code",
     "checksum": "30b85939cd30b41d64cd2fdd782aea88",
     "grade": false,
     "grade_id": "cell-86f92b2cea689ae7",
     "locked": false,
     "schema_version": 3,
     "solution": true,
     "task": false
    }
   },
   "outputs": [
    {
     "data": {
      "text/plain": [
       "3.5556792801499504"
      ]
     },
     "execution_count": 8,
     "metadata": {},
     "output_type": "execute_result"
    }
   ],
   "source": [
    "# Combine the code you wrote before to a function (call it LookbackPut_float)\n",
    "def LookbackPut_float(T, S0, r, sig, dt, M, seed):\n",
    "    \"\"\"\n",
    "    input: \n",
    "        T: time to maturity\n",
    "        S0: initial stock price\n",
    "        r: interest rate\n",
    "        sig: volatility\n",
    "        dt: the increment in discretization\n",
    "        M: number of Monte Carlo sample paths\n",
    "        seed: random seed for numpy random normal generator \n",
    "    -------------------------------------------------------\n",
    "    output:\n",
    "        estimated arbitrage free initial price\n",
    "    \"\"\"\n",
    "    # YOUR CODE HERE\n",
    "    np.random.seed(seed)\n",
    "    \n",
    "    N = int(T/dt)\n",
    "    Zt = np.random.normal(0,np.sqrt(dt),(M,N))\n",
    "    \n",
    "    St = np.zeros((M,N))\n",
    "    St[:,0]= S0*np.exp((r-0.5*sig**2)*dt+sig*Zt[:,0])\n",
    "    for n in range(1,N):\n",
    "        St[:,n]= St[:,n-1]*np.exp((r-0.5*sig**2)*dt+sig*Zt[:,n])\n",
    "        \n",
    "    LookbackPut = np.zeros((M))\n",
    "    for m in range(M):\n",
    "        LookbackPut[m] = np.max(St[m,:])-St[m,-1]\n",
    "        \n",
    "    price = np.mean(LookbackPut)*np.exp(-r*T)\n",
    "    \n",
    "    return price\n",
    "\n",
    "LookbackPut_float(7, 20, 0.1, 0.2, 0.01, 1000, 111)"
   ]
  },
  {
   "cell_type": "code",
   "execution_count": 9,
   "metadata": {
    "deletable": false,
    "editable": false,
    "nbgrader": {
     "cell_type": "code",
     "checksum": "21bb4b90a5b9a321d71a19680f3395c1",
     "grade": true,
     "grade_id": "cell-ee580422a1942944",
     "locked": true,
     "points": 3,
     "schema_version": 3,
     "solution": false,
     "task": false
    }
   },
   "outputs": [],
   "source": [
    "\"\"\"Check your function: LookbackPut_float; do not change the code in this cell\"\"\"\n",
    "p_test = LookbackPut_float(7, 20, 0.1, 0.2, 0.01, 1000, 111)\n",
    "assert round(p_test, 2) == 3.56"
   ]
  },
  {
   "cell_type": "markdown",
   "metadata": {
    "deletable": false,
    "editable": false,
    "nbgrader": {
     "cell_type": "markdown",
     "checksum": "241af7f9e5ff199bc2ffdc045d470891",
     "grade": false,
     "grade_id": "cell-0afc836e899e3149",
     "locked": true,
     "schema_version": 3,
     "solution": false,
     "task": false
    }
   },
   "source": [
    "(b) Use the function to price a floating strike Lookback put with $S_0=40, r=0.1, \\sigma=0.2, T=10$.\n",
    "Try to run for $dt = 0.1$ and $dt = 0.01$ respectively. "
   ]
  },
  {
   "cell_type": "code",
   "execution_count": 10,
   "metadata": {
    "deletable": false,
    "nbgrader": {
     "cell_type": "code",
     "checksum": "716f8825d264fc5b3fca68d35156812a",
     "grade": false,
     "grade_id": "cell-3bab42ed0bac449f",
     "locked": false,
     "schema_version": 3,
     "solution": true,
     "task": false
    }
   },
   "outputs": [],
   "source": [
    "seed = 123\n",
    "M = 10000\n",
    "# let dt = 0.1 first; run your function using the specified parameters\n",
    "# let the output be p1\n",
    "# YOUR CODE HERE\n",
    "S0 = 40\n",
    "r=0.1\n",
    "sig=0.2\n",
    "T=10\n",
    "dt=0.1\n",
    "p1 =  LookbackPut_float(T, S0, r, sig, dt, M, seed)"
   ]
  },
  {
   "cell_type": "code",
   "execution_count": 11,
   "metadata": {
    "deletable": false,
    "editable": false,
    "nbgrader": {
     "cell_type": "code",
     "checksum": "b10e541ba27d6f8d0b230f185001b7a6",
     "grade": true,
     "grade_id": "cell-b24a8d033449603f",
     "locked": true,
     "points": 1,
     "schema_version": 3,
     "solution": false,
     "task": false
    }
   },
   "outputs": [],
   "source": [
    "\"\"\"Check your answer for p1\"\"\"\n",
    "assert round(p1, 2) == 6.17"
   ]
  },
  {
   "cell_type": "code",
   "execution_count": 12,
   "metadata": {
    "deletable": false,
    "nbgrader": {
     "cell_type": "code",
     "checksum": "f1760190b5716daa1f5567d928bd58af",
     "grade": false,
     "grade_id": "cell-09cbec35704ac138",
     "locked": false,
     "schema_version": 3,
     "solution": true,
     "task": false
    }
   },
   "outputs": [],
   "source": [
    "# Let dt = 0.01 and compute p2.\n",
    "seed = 123\n",
    "M = 10000\n",
    "# YOUR CODE HERE\n",
    "S0 = 40\n",
    "r=0.1\n",
    "sig=0.2\n",
    "T=10\n",
    "dt = 0.01\n",
    "p2 =  LookbackPut_float(T, S0, r, sig, dt, M, seed)"
   ]
  },
  {
   "cell_type": "code",
   "execution_count": 13,
   "metadata": {
    "deletable": false,
    "editable": false,
    "nbgrader": {
     "cell_type": "code",
     "checksum": "5ea063a4b60e586add10fd77ca86cc62",
     "grade": true,
     "grade_id": "cell-db035642e440b4cc",
     "locked": true,
     "points": 1,
     "schema_version": 3,
     "solution": false,
     "task": false
    }
   },
   "outputs": [],
   "source": [
    "\"\"\"Check your answer for p2\"\"\"\n",
    "assert round(p2, 2) == 7.28"
   ]
  },
  {
   "cell_type": "markdown",
   "metadata": {
    "deletable": false,
    "editable": false,
    "nbgrader": {
     "cell_type": "markdown",
     "checksum": "59d4f6a09ee1abeea5f9419751ea3537",
     "grade": false,
     "grade_id": "cell-feea2ac8e9cad97b",
     "locked": true,
     "schema_version": 3,
     "solution": false,
     "task": false
    }
   },
   "source": [
    "## Problem 2 (Discrete time Asian Options, 10 points)\n",
    "- Payoff at $T$: $$\\max{\\left\\{K-\\frac{1}{T}\\int_0^T S_t dt, 0\\right\\}}.$$\n",
    "- The initial arbitrage free price for the option is $$e^{-rT}E^*\\left[\\max\\left(K-\\frac{1}{T}\\int_0^T S_t ds, 0\\right)\\right].$$"
   ]
  },
  {
   "cell_type": "markdown",
   "metadata": {
    "deletable": false,
    "editable": false,
    "nbgrader": {
     "cell_type": "markdown",
     "checksum": "56159a5e555d197f0bebb46529494d97",
     "grade": false,
     "grade_id": "cell-b584d41c71c832bb",
     "locked": true,
     "schema_version": 3,
     "solution": false,
     "task": false
    }
   },
   "source": [
    "(a) Write a function for pricing an Asian put option."
   ]
  },
  {
   "cell_type": "code",
   "execution_count": 14,
   "metadata": {
    "deletable": false,
    "nbgrader": {
     "cell_type": "code",
     "checksum": "e5f16769572bb5f97698d093683465d2",
     "grade": false,
     "grade_id": "cell-8d89c52089a6ad51",
     "locked": false,
     "schema_version": 3,
     "solution": true,
     "task": false
    }
   },
   "outputs": [],
   "source": [
    "def AsianPut_Pricing(T, S0, K, r, sig, dt, M, seed):\n",
    "    \"\"\"\n",
    "    input:\n",
    "        T: time to maturity\n",
    "        S0: initial stock price\n",
    "        K: strike price\n",
    "        r: interest rate\n",
    "        sig: volatility\n",
    "        dt: the increment in discretization\n",
    "        M: number of sample paths\n",
    "        seed: random seed of numpy random generater\n",
    "    output:\n",
    "        AsP: estimated arbitrage free initial price for Asian put option \n",
    "    \"\"\"\n",
    "    # YOUR CODE HERE\n",
    "    np.random.seed(seed)\n",
    "    \n",
    "    N = int(T/dt)\n",
    "    Zt = np.random.normal(0,np.sqrt(dt),(M,N))\n",
    "    \n",
    "    St = np.zeros((M,N))\n",
    "    St[:,0]= S0*np.exp((r-0.5*sig**2)*dt+sig*Zt[:,0])\n",
    "    for n in range(1,N):\n",
    "        St[:,n]= St[:,n-1]*np.exp((r-0.5*sig**2)*dt+sig*Zt[:,n])\n",
    "        \n",
    "    AsianPut = np.zeros((M))\n",
    "    for m in range(M):\n",
    "        AsianPut[m] = np.maximum(K-np.mean(St[m,:]),0)\n",
    "        \n",
    "    price = np.mean(AsianPut)*np.exp(-r*T)\n",
    "    \n",
    "    return price\n",
    "    \n",
    "    "
   ]
  },
  {
   "cell_type": "code",
   "execution_count": 15,
   "metadata": {
    "deletable": false,
    "editable": false,
    "nbgrader": {
     "cell_type": "code",
     "checksum": "5cff51768ff7f550e2968ae8acbad84f",
     "grade": true,
     "grade_id": "cell-96ee9030af4aeb78",
     "locked": true,
     "points": 5,
     "schema_version": 3,
     "solution": false,
     "task": false
    }
   },
   "outputs": [],
   "source": [
    "\"\"\"Check your AsianPut_Pricing function\"\"\"\n",
    "assert round(AsianPut_Pricing(5, 20, 18, 0.1, 0.2, 0.01, 10000, 123), 2) == 0.13"
   ]
  },
  {
   "cell_type": "markdown",
   "metadata": {
    "deletable": false,
    "editable": false,
    "nbgrader": {
     "cell_type": "markdown",
     "checksum": "fc1b111fb88810a9ade6fa4643a2e207",
     "grade": false,
     "grade_id": "cell-11208e440214b210",
     "locked": true,
     "schema_version": 3,
     "solution": false,
     "task": false
    }
   },
   "source": [
    "(b) For the same parameters as in part (b) of Exercise 1, find the arbitrage free initial price for the Asian put option described in 2(a) with strike price K = 29."
   ]
  },
  {
   "cell_type": "code",
   "execution_count": 16,
   "metadata": {
    "deletable": false,
    "nbgrader": {
     "cell_type": "code",
     "checksum": "3b0e7d8075852c8269879b54520ef987",
     "grade": false,
     "grade_id": "cell-dd34e8dbe459ef3f",
     "locked": false,
     "schema_version": 3,
     "solution": true,
     "task": false
    }
   },
   "outputs": [],
   "source": [
    "# YOUR CODE HERE\n",
    "K = 29"
   ]
  },
  {
   "cell_type": "code",
   "execution_count": 17,
   "metadata": {
    "deletable": false,
    "editable": false,
    "nbgrader": {
     "cell_type": "code",
     "checksum": "b1af30450938294228a368fd5f716b9d",
     "grade": true,
     "grade_id": "cell-46b7f1c187036cd6",
     "locked": true,
     "points": 5,
     "schema_version": 3,
     "solution": false,
     "task": false
    }
   },
   "outputs": [],
   "source": [
    "\"\"\"Check your answer\"\"\"\n",
    "assert round(AsianPut_Pricing(10, 40, K, 0.1, 0.2, 0.01, 10000, 123), 2) == 0.02"
   ]
  },
  {
   "cell_type": "markdown",
   "metadata": {
    "deletable": false,
    "editable": false,
    "nbgrader": {
     "cell_type": "markdown",
     "checksum": "fb56bfdef744065628a74cb798c579bc",
     "grade": false,
     "grade_id": "cell-c7d3495d82e5104f",
     "locked": true,
     "schema_version": 3,
     "solution": false,
     "task": false
    }
   },
   "source": [
    "## Problem 3 (the CEV model, 10 points)\n",
    "The risky asset evolves according to the following stochastic differential equation:\n",
    "$$dS_t = rS_tdt+\\sigma S_t^\\gamma dW_t,$$ where $\\sigma>0, \\gamma>0$."
   ]
  },
  {
   "cell_type": "markdown",
   "metadata": {
    "deletable": false,
    "editable": false,
    "nbgrader": {
     "cell_type": "markdown",
     "checksum": "ef10da9aead5eb0cc668315268891139",
     "grade": false,
     "grade_id": "cell-27c36993bc03f340",
     "locked": true,
     "schema_version": 3,
     "solution": false,
     "task": false
    }
   },
   "source": [
    "(a) For $\\gamma>1$, write a function to use an Euler approximation to approximate the sample paths of $S_t$ under the CEV model. Draw some sample plots for $T=5, \\gamma=1.4, r=0.1, S_0=20, \\sigma=0.1$.\n",
    "\n",
    "Let's do it step by step first and then combine the steps to form a function. "
   ]
  },
  {
   "cell_type": "code",
   "execution_count": 18,
   "metadata": {
    "deletable": false,
    "editable": false,
    "nbgrader": {
     "cell_type": "code",
     "checksum": "40191620ff722fff98f827d59583fd08",
     "grade": false,
     "grade_id": "cell-36c0b8f7442bb653",
     "locked": true,
     "schema_version": 3,
     "solution": false,
     "task": false
    }
   },
   "outputs": [],
   "source": [
    "# Assume the number of steps: N = 10000\n",
    "N = 10000\n",
    "T = 5\n",
    "gamma = 1.4\n",
    "r = 0.1\n",
    "S0 = 20\n",
    "sigma = 0.1\n",
    "step = T / N"
   ]
  },
  {
   "cell_type": "code",
   "execution_count": 19,
   "metadata": {
    "deletable": false,
    "nbgrader": {
     "cell_type": "code",
     "checksum": "b37e92939f695dbfc745243661e11fc5",
     "grade": false,
     "grade_id": "cell-8ed407279596ee76",
     "locked": false,
     "schema_version": 3,
     "solution": true,
     "task": false
    }
   },
   "outputs": [],
   "source": [
    "# generate N standard normal samples in a vector Z using random seed 3; \n",
    "np.random.seed(3)\n",
    "# YOUR CODE HERE\n",
    "Z= np.random.randn(N)"
   ]
  },
  {
   "cell_type": "code",
   "execution_count": 20,
   "metadata": {
    "deletable": false,
    "nbgrader": {
     "cell_type": "code",
     "checksum": "dfda306f7a67c4775fbdaf408dc9fd7b",
     "grade": false,
     "grade_id": "cell-0e467257b17fb031",
     "locked": false,
     "schema_version": 3,
     "solution": true,
     "task": false
    }
   },
   "outputs": [],
   "source": [
    "# generate a path (a list of stock prices along time) \n",
    "# using the SDE formula and the sampled vector Z, call the list \"path\"\n",
    "path, S = [], S0\n",
    "path.append(S0)\n",
    "\n",
    "# Write a for loop below to recursively append the list: path to record the sequence of stock prices\n",
    "# YOUR CODE HERE\n",
    "for j in range(N):\n",
    "    St = path[-1] + r*path[-1]*step + sigma*(path[-1]**gamma)*Z[j]*np.sqrt(step)\n",
    "    path.append(St)\n"
   ]
  },
  {
   "cell_type": "code",
   "execution_count": 21,
   "metadata": {
    "deletable": false,
    "editable": false,
    "nbgrader": {
     "cell_type": "code",
     "checksum": "d24c070b04ee8810c527687ffb179ccf",
     "grade": true,
     "grade_id": "cell-de88ec10f3f132f1",
     "locked": true,
     "points": 3,
     "schema_version": 3,
     "solution": false,
     "task": false
    }
   },
   "outputs": [],
   "source": [
    "assert round(path[1],1) == 20.3\n",
    "assert len(path) == N+1"
   ]
  },
  {
   "cell_type": "code",
   "execution_count": 22,
   "metadata": {
    "deletable": false,
    "nbgrader": {
     "cell_type": "code",
     "checksum": "f5123efd2488eaa1a7ffebfd337381a8",
     "grade": false,
     "grade_id": "cell-a1bdafffd7af2d5a",
     "locked": false,
     "schema_version": 3,
     "solution": true,
     "task": false
    }
   },
   "outputs": [],
   "source": [
    "# Write a function to simulate the solution using Euler method by combing the code above\n",
    "# note in the function, you may need to define variable step and calculate it out\n",
    "def CEV_euler(T, N, gamma, r, S0, sigma, seed):\n",
    "    \"\"\"\n",
    "    input:\n",
    "        T: end time\n",
    "        N: number of small time steps\n",
    "        gamma, r, S0, sigma: parameters in the CEV model\n",
    "        seed: random seed to generate the standard normal sequence\n",
    "    output:\n",
    "        one sample path (simulation) of the solution of the CEV model using Euler scheme\n",
    "    \"\"\"\n",
    "    # YOUR CODE HERE\n",
    "    np.random.seed(seed)\n",
    "    step = T / N\n",
    "    Z= np.random.randn(N)\n",
    "    path, S = [], S0\n",
    "    path.append(S0)\n",
    "    \n",
    "    for j in range(N):\n",
    "        St = path[-1] + r*path[-1]*step + sigma*(path[-1]**gamma)*Z[j]*np.sqrt(step)\n",
    "        path.append(St)\n",
    "    \n",
    "    return path "
   ]
  },
  {
   "cell_type": "code",
   "execution_count": 23,
   "metadata": {
    "deletable": false,
    "editable": false,
    "nbgrader": {
     "cell_type": "code",
     "checksum": "8370dd3ea9aeb630857bd38698fbfd9c",
     "grade": true,
     "grade_id": "cell-eb2b425b6a6dbddb",
     "locked": true,
     "points": 2,
     "schema_version": 3,
     "solution": false,
     "task": false
    }
   },
   "outputs": [],
   "source": [
    "\"\"\"Check your function\"\"\"\n",
    "assert round(CEV_euler(5, 1000, 0.2, 0.1, 20, 0.1, 9)[-1], 2) == 33.55"
   ]
  },
  {
   "cell_type": "code",
   "execution_count": 24,
   "metadata": {
    "deletable": false,
    "editable": false,
    "nbgrader": {
     "cell_type": "code",
     "checksum": "6851e9c94d796535162375fd25895641",
     "grade": false,
     "grade_id": "cell-59119f906640c521",
     "locked": true,
     "schema_version": 3,
     "solution": false,
     "task": false
    }
   },
   "outputs": [],
   "source": [
    "# import packages for drawing graph\n",
    "import matplotlib.pyplot as plt\n",
    "%matplotlib inline"
   ]
  },
  {
   "cell_type": "code",
   "execution_count": 25,
   "metadata": {
    "deletable": false,
    "nbgrader": {
     "cell_type": "code",
     "checksum": "1ea19bdbef4123642a9d3d9dabaeb5eb",
     "grade": true,
     "grade_id": "cell-c2c11a165127f552",
     "locked": false,
     "points": 2,
     "schema_version": 3,
     "solution": true,
     "task": false
    }
   },
   "outputs": [
    {
     "data": {
      "image/png": "[encoded data removed]",
      "text/plain": [
       "<Figure size 864x576 with 1 Axes>"
      ]
     },
     "metadata": {
      "needs_background": "light"
     },
     "output_type": "display_data"
    }
   ],
   "source": [
    "# Draw some sample paths for the specified parameters with different seeds(3, 17, 23, 37, 50, 67)\n",
    "# color the sample paths differently\n",
    "# try to add a title of your plot\n",
    "\n",
    "plt.figure(figsize=(12,8))\n",
    "# YOUR CODE HERE\n",
    "N = 10000\n",
    "T = 5\n",
    "gamma = 1.4\n",
    "r = 0.1\n",
    "S0 = 20\n",
    "sigma = 0.1\n",
    "\n",
    "seeds = [3, 17, 23, 37, 50, 67]\n",
    "colors = ['red','blue','yellow','green','pink','orange']\n",
    "\n",
    "times = np.arange(N+1)\n",
    "\n",
    "for i in range(len(seeds)):\n",
    "    seed = seeds[i]\n",
    "    colori = colors[i]\n",
    "    path = CEV_euler(T, N, gamma, r, S0, sigma, seed)\n",
    "    plt.plot(times,path, label = 'Seed '+str(seed), color = colori)\n",
    "    \n",
    "plt.ylabel('St')\n",
    "plt.xlabel('N')\n",
    "plt.title('Sample paths of St with different seeds')\n",
    "plt.legend()\n",
    "plt.show()"
   ]
  },
  {
   "cell_type": "markdown",
   "metadata": {
    "deletable": false,
    "editable": false,
    "nbgrader": {
     "cell_type": "markdown",
     "checksum": "730bbbd4b110038bca567ad77e770041",
     "grade": false,
     "grade_id": "cell-254a1f2831ecf848",
     "locked": true,
     "schema_version": 3,
     "solution": false,
     "task": false
    }
   },
   "source": [
    "(b) Add to the code developed in 3(a) to approximate the value of \n",
    "$$E^*[(\\max_{0\\leq t\\leq T}S_t - K)^+]$$ for the CEV model. Illustrate for the parameters in (a) and for $K=18$. "
   ]
  },
  {
   "cell_type": "code",
   "execution_count": 26,
   "metadata": {
    "deletable": false,
    "nbgrader": {
     "cell_type": "code",
     "checksum": "2f6bbc864d974c84c7b4dac9103fdf16",
     "grade": false,
     "grade_id": "cell-15df8c03789eb1a1",
     "locked": false,
     "schema_version": 3,
     "solution": true,
     "task": false
    }
   },
   "outputs": [
    {
     "data": {
      "text/plain": [
       "46.33017513358878"
      ]
     },
     "execution_count": 26,
     "metadata": {},
     "output_type": "execute_result"
    }
   ],
   "source": [
    "# write a function to approximate the required value\n",
    "# Instead of applying CEV_euler function, we extend the function here by applying the vector operation.\n",
    "# (extend the Z vector to matrix Z with M rows and do the same operations for all rows at once)\n",
    "def MC_price(T, N, gamma, r, S0, sigma, seed, M, K):\n",
    "    \"\"\"\n",
    "    input:\n",
    "        T: end time\n",
    "        N: number of small time steps\n",
    "        gamma, r, S0, sigma: parameters in the CEV model\n",
    "        seed: random seed to generate the standard normal sequence\n",
    "        K: strike price\n",
    "    output:\n",
    "        the estimation on the E*[maxSt - K, 0]\n",
    "    \"\"\"\n",
    "    step = T / N\n",
    "    np.random.seed(seed)\n",
    "    Z = np.random.normal(0, 1, size=(M, N))\n",
    "    # YOUR CODE HERE\n",
    "    path=np.zeros((M,N+1))\n",
    "    path[:,0]=S0\n",
    "    for j in range(1,N+1):\n",
    "        path[:,j] = path[:,j-1] + r*path[:,j-1]*step + sigma*(path[:,j-1]**gamma)*Z[:,j-1]*np.sqrt(step)\n",
    "    \n",
    "    payoff = np.zeros((M))\n",
    "    for m in range(M):\n",
    "        payoff[m] = np.maximum(np.max(path[m,:])-K,0)\n",
    "        \n",
    "    return np.mean(payoff)\n",
    "\n",
    "MC_price(T, N, gamma, r, S0, sigma, 3, 1000, 18)"
   ]
  },
  {
   "cell_type": "code",
   "execution_count": 27,
   "metadata": {
    "deletable": false,
    "editable": false,
    "nbgrader": {
     "cell_type": "code",
     "checksum": "61213d488defc01611bae1ce3edca5cd",
     "grade": true,
     "grade_id": "cell-3995a1fe5de5e62b",
     "locked": true,
     "points": 3,
     "schema_version": 3,
     "solution": false,
     "task": false
    }
   },
   "outputs": [],
   "source": [
    "\"\"\"Check your function \"\"\"\n",
    "assert round(MC_price(T, N, gamma, r, S0, sigma, 3, 1000, 18), 2) == 46.33"
   ]
  }
 ],
 "metadata": {
  "kernelspec": {
   "display_name": "Python 3 (ipykernel)",
   "language": "python",
   "name": "python3"
  },
  "language_info": {
   "codemirror_mode": {
    "name": "ipython",
    "version": 3
   },
   "file_extension": ".py",
   "mimetype": "text/x-python",
   "name": "python",
   "nbconvert_exporter": "python",
   "pygments_lexer": "ipython3",
   "version": "3.9.5"
  }
 },
 "nbformat": 4,
 "nbformat_minor": 4
}
